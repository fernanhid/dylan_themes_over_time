{
 "cells": [
  {
   "cell_type": "code",
   "execution_count": 1,
   "metadata": {
    "collapsed": false
   },
   "outputs": [],
   "source": [
    "import requests\n",
    "from bs4 import BeautifulSoup as bf\n",
    "import pandas as pd\n",
    "import numpy as np\n",
    "import codecs\n",
    "from selenium import webdriver\n",
    "from selenium.webdriver.common.keys import Keys\n",
    "import time\n",
    "import os\n",
    "from selenium.webdriver.support.ui import Select\n",
    "import seaborn as sns\n",
    "import matplotlib.pyplot as plt\n",
    "import re\n",
    "from datetime import datetime\n",
    "from collections import Counter\n",
    "\n",
    "%matplotlib inline"
   ]
  },
  {
   "cell_type": "markdown",
   "metadata": {},
   "source": [
    "# Scrapping the Dylan Lyrics"
   ]
  },
  {
   "cell_type": "code",
   "execution_count": null,
   "metadata": {
    "collapsed": true
   },
   "outputs": [],
   "source": [
    "url = 'http://lyrics.wikia.com/wiki/Bob_Dylan'\n",
    "\n",
    "data = bf(requests.get(url).text)\n",
    "\n",
    "url_lst = []\n",
    "for  ols in data.find_all('ol'):\n",
    "    try:\n",
    "        for ol in ols:\n",
    "            url_lst.append('http://lyrics.wikia.com' + ol.a.get('href'))\n",
    "    except:\n",
    "        pass\n",
    "    \n",
    "dylan = []\n",
    "for url in url_lst:\n",
    "    temp_dic = {}\n",
    "    try:\n",
    "        soup = bf(requests.get(url).text)\n",
    "        temp_dic['title'] = soup.find('div', id = 'song-header-title').text.strip()\n",
    "        temp_dic['lyrics'] = ' '.join([a for a in re.split(r'([A-Z][a-z]*)', soup.find('div', class_ = 'lyricbox').text) if a]).replace('\\n', '')\n",
    "        temp_dic['album'] = soup.find('i').text.split('(')[0].strip().replace(')', '')\n",
    "        temp_dic['release_date'] = soup.find('i').text.split('(')[1].strip()\n",
    "        dylan.append(temp_dic)\n",
    "    except:\n",
    "        pass\n"
   ]
  },
  {
   "cell_type": "code",
   "execution_count": null,
   "metadata": {
    "collapsed": true
   },
   "outputs": [],
   "source": [
    "# Making a data frame\n",
    "dylan_df = pd.DataFrame({'song': [i['title'] for i in dylan],\n",
    "                        'album': [i['album'] for i in dylan],\n",
    "                        'release_date': [int(i['release_date'].split(')')[0]) for i in dylan],\n",
    "                        'lyrics': [i['lyrics'] for i in dylan]})\n",
    "dylan_df['dylan_age'] = dylan_df.release_date - 1941\n",
    "dylan_df = dylan_df[['song', 'album','dylan_age' ,'release_date', 'lyrics']]"
   ]
  },
  {
   "cell_type": "code",
   "execution_count": null,
   "metadata": {
    "collapsed": true
   },
   "outputs": [],
   "source": [
    "dylan_df[['song', 'album', 'dylan_age', 'release_date', 'lyrics']].to_pickle('dylan_info_df.pkl')"
   ]
  },
  {
   "cell_type": "code",
   "execution_count": 2,
   "metadata": {
    "collapsed": true
   },
   "outputs": [],
   "source": [
    "dylan_df = pd.read_pickle('dylan_info_df.pkl')\n",
    "dylan_df = dylan_df[dylan_df.album != 'Christmas In The Heart'].reset_index(drop = True)"
   ]
  },
  {
   "cell_type": "code",
   "execution_count": 30,
   "metadata": {
    "collapsed": false
   },
   "outputs": [
    {
     "data": {
      "text/plain": [
       "(413, 5)"
      ]
     },
     "execution_count": 30,
     "metadata": {},
     "output_type": "execute_result"
    }
   ],
   "source": [
    "# It's a Small Data Set\n",
    "dylan_df.shape"
   ]
  },
  {
   "cell_type": "markdown",
   "metadata": {},
   "source": [
    "It's a small data set of only 413 songs"
   ]
  },
  {
   "cell_type": "code",
   "execution_count": 74,
   "metadata": {
    "collapsed": false
   },
   "outputs": [],
   "source": [
    "# Take out the instrumental tracks\n",
    "instrumental_index = []\n",
    "for i,song in enumerate(dylan_df.lyrics):\n",
    "    if 'Instrumental' in song:\n",
    "        instrumental_index.append(i)\n",
    "\n",
    "\n",
    "dylan_df = dylan_df.loc[set(dylan_df.index.tolist()) - set(instrumental_index)].reset_index(drop= True)"
   ]
  },
  {
   "cell_type": "markdown",
   "metadata": {},
   "source": [
    "## Topic Modeling"
   ]
  },
  {
   "cell_type": "code",
   "execution_count": 146,
   "metadata": {
    "collapsed": false
   },
   "outputs": [],
   "source": [
    "import nltk\n",
    "from nltk.stem.snowball import SnowballStemmer\n",
    "\n",
    "\n",
    "stopwords = [i for i in nltk.corpus.stopwords.words('english')]\n",
    "stopwords += ['said', 'like', 'may', 'oh', 'well']"
   ]
  },
  {
   "cell_type": "markdown",
   "metadata": {},
   "source": [
    "### Vectorize Dylan's Lyrics"
   ]
  },
  {
   "cell_type": "code",
   "execution_count": 152,
   "metadata": {
    "collapsed": false
   },
   "outputs": [],
   "source": [
    "from sklearn.feature_extraction.text import TfidfVectorizer\n",
    "\n",
    "tfidf_vect = TfidfVectorizer(stop_words = stopwords,\n",
    "                     min_df = .05,\n",
    "                     max_df = .85)\n",
    "\n",
    "tfidf = tfidf_vect.fit_transform(dylan_df.lyrics)\n",
    "tfidf_feature_names = tfidf_vect.get_feature_names()"
   ]
  },
  {
   "cell_type": "markdown",
   "metadata": {},
   "source": [
    "### Topic Modeling: NMF"
   ]
  },
  {
   "cell_type": "code",
   "execution_count": 162,
   "metadata": {
    "collapsed": false
   },
   "outputs": [],
   "source": [
    "from sklearn.decomposition import NMF\n",
    "\n",
    "nmf = NMF(n_components = 7, random_state=1, alpha=.1, l1_ratio=.5).fit(tfidf)\n",
    "transformed_data = nmf.transform(tfidf)"
   ]
  },
  {
   "cell_type": "code",
   "execution_count": 163,
   "metadata": {
    "collapsed": false
   },
   "outputs": [
    {
     "name": "stdout",
     "output_type": "stream",
     "text": [
      "Topic:1\n",
      "one got know man time say go get back never could night see way day right still tell away gone\n",
      "Topic:2\n",
      "gonna mama make easy take best friend let everybody got boy day things keep miss hard soul somebody king says\n",
      "Topic:3\n",
      "love true want go without let make must know life heart fool someone country ever see would take found need\n",
      "Topic:4\n",
      "lord yes hand die got blood hold want heaven gone keep woman believe door world feel bound ground tell train\n",
      "Topic:5\n",
      "baby please honey got mind dream wrong know last good door wanna something long come look get die really want\n",
      "Topic:6\n",
      "come see together times one everybody give without next know tonight nothing let died miss black true little tomorrow alone\n",
      "Topic:7\n",
      "young stay always heart true alone hard heaven start hands every morning one come poor feet best wish heard dreams\n"
     ]
    }
   ],
   "source": [
    "def print_top_words(model, feature_names, n_top_words):\n",
    "    for topic_idx, topic in enumerate(model.components_):\n",
    "        print(\"Topic:\" + str(int(topic_idx)+1))\n",
    "        print(\" \".join([feature_names[i]\n",
    "                        for i in topic.argsort()[:-n_top_words - 1:-1]]))\n",
    "        \n",
    "print_top_words(nmf, tfidf_feature_names, 20)"
   ]
  },
  {
   "cell_type": "code",
   "execution_count": 168,
   "metadata": {
    "collapsed": false
   },
   "outputs": [],
   "source": [
    "topics = {1: 'other',\n",
    "         2: 'Frustration',\n",
    "         3: 'Love',\n",
    "         4: 'Pleading to a Lover',\n",
    "         5: 'Pleading',\n",
    "         6: 'Inviting People',\n",
    "         7: 'Giving Advice'}"
   ]
  },
  {
   "cell_type": "code",
   "execution_count": 170,
   "metadata": {
    "collapsed": false
   },
   "outputs": [
    {
     "data": {
      "text/html": [
       "<div>\n",
       "<table border=\"1\" class=\"dataframe\">\n",
       "  <thead>\n",
       "    <tr style=\"text-align: right;\">\n",
       "      <th></th>\n",
       "      <th>song</th>\n",
       "      <th>album</th>\n",
       "      <th>dylan_age</th>\n",
       "      <th>release_date</th>\n",
       "      <th>lyrics</th>\n",
       "    </tr>\n",
       "  </thead>\n",
       "  <tbody>\n",
       "    <tr>\n",
       "      <th>0</th>\n",
       "      <td>You're No Good</td>\n",
       "      <td>Bob Dylan</td>\n",
       "      <td>21</td>\n",
       "      <td>1962</td>\n",
       "      <td>Well ,  I  don't know why  I  love you like  I...</td>\n",
       "    </tr>\n",
       "    <tr>\n",
       "      <th>1</th>\n",
       "      <td>Talkin' New York</td>\n",
       "      <td>Bob Dylan</td>\n",
       "      <td>21</td>\n",
       "      <td>1962</td>\n",
       "      <td>Ramblin ' out of the wild  West Leavin ' the t...</td>\n",
       "    </tr>\n",
       "    <tr>\n",
       "      <th>2</th>\n",
       "      <td>In My Time Of Dyin'</td>\n",
       "      <td>Bob Dylan</td>\n",
       "      <td>21</td>\n",
       "      <td>1962</td>\n",
       "      <td>Well , in my time of dyin' Don 't want nobody ...</td>\n",
       "    </tr>\n",
       "    <tr>\n",
       "      <th>3</th>\n",
       "      <td>Man of Constant Sorrow</td>\n",
       "      <td>Bob Dylan</td>\n",
       "      <td>21</td>\n",
       "      <td>1962</td>\n",
       "      <td>I  am a man of constant sorrow I 've seen trou...</td>\n",
       "    </tr>\n",
       "    <tr>\n",
       "      <th>4</th>\n",
       "      <td>Fixin' to Die</td>\n",
       "      <td>Bob Dylan</td>\n",
       "      <td>21</td>\n",
       "      <td>1962</td>\n",
       "      <td>Feeling  funny in my mind,  Lord I  believe  I...</td>\n",
       "    </tr>\n",
       "  </tbody>\n",
       "</table>\n",
       "</div>"
      ],
      "text/plain": [
       "                     song      album  dylan_age  release_date  \\\n",
       "0          You're No Good  Bob Dylan         21          1962   \n",
       "1        Talkin' New York  Bob Dylan         21          1962   \n",
       "2     In My Time Of Dyin'  Bob Dylan         21          1962   \n",
       "3  Man of Constant Sorrow  Bob Dylan         21          1962   \n",
       "4           Fixin' to Die  Bob Dylan         21          1962   \n",
       "\n",
       "                                              lyrics  \n",
       "0  Well ,  I  don't know why  I  love you like  I...  \n",
       "1  Ramblin ' out of the wild  West Leavin ' the t...  \n",
       "2  Well , in my time of dyin' Don 't want nobody ...  \n",
       "3  I  am a man of constant sorrow I 've seen trou...  \n",
       "4  Feeling  funny in my mind,  Lord I  believe  I...  "
      ]
     },
     "execution_count": 170,
     "metadata": {},
     "output_type": "execute_result"
    }
   ],
   "source": [
    "dylan_df.release_date"
   ]
  },
  {
   "cell_type": "code",
   "execution_count": 186,
   "metadata": {
    "collapsed": false
   },
   "outputs": [],
   "source": [
    "\n",
    "final_data = pd.DataFrame(transformed_data).applymap(lambda x: 1 if x>0 else 0)\n",
    "final_data.columns = topics.values()\n",
    "final_data['year'] = [i for i in dylan_df.release_date]\n",
    "\n",
    "by_year = final_data.groupby('year').sum()\n",
    "for i in by_year.index:\n",
    "    by_year.loc[i] = by_year.loc[i]/float(np.sum(by_year.loc[i]))"
   ]
  },
  {
   "cell_type": "code",
   "execution_count": 188,
   "metadata": {
    "collapsed": false
   },
   "outputs": [
    {
     "data": {
      "text/plain": [
       "<matplotlib.axes._subplots.AxesSubplot at 0x110197b10>"
      ]
     },
     "execution_count": 188,
     "metadata": {},
     "output_type": "execute_result"
    },
    {
     "data": {
      "image/png": "[encoded data removed]",
      "text/plain": [
       "<matplotlib.figure.Figure at 0x110197ad0>"
      ]
     },
     "metadata": {},
     "output_type": "display_data"
    }
   ],
   "source": [
    "by_year[].plot()"
   ]
  },
  {
   "cell_type": "code",
   "execution_count": null,
   "metadata": {
    "collapsed": true
   },
   "outputs": [],
   "source": []
  }
 ],
 "metadata": {
  "anaconda-cloud": {},
  "kernelspec": {
   "display_name": "Python [default]",
   "language": "python",
   "name": "python2"
  },
  "language_info": {
   "codemirror_mode": {
    "name": "ipython",
    "version": 2
   },
   "file_extension": ".py",
   "mimetype": "text/x-python",
   "name": "python",
   "nbconvert_exporter": "python",
   "pygments_lexer": "ipython2",
   "version": "2.7.12"
  }
 },
 "nbformat": 4,
 "nbformat_minor": 0
}
