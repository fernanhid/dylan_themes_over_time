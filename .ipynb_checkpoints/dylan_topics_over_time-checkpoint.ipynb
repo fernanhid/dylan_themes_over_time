{
 "cells": [
  {
   "cell_type": "code",
   "execution_count": 2,
   "metadata": {
    "collapsed": false
   },
   "outputs": [],
   "source": [
    "import requests\n",
    "from bs4 import BeautifulSoup as bf\n",
    "import pandas as pd\n",
    "import numpy as np\n",
    "import codecs\n",
    "from selenium import webdriver\n",
    "from selenium.webdriver.common.keys import Keys\n",
    "import time\n",
    "import os\n",
    "from selenium.webdriver.support.ui import Select\n",
    "import seaborn as sns\n",
    "import matplotlib.pyplot as plt\n",
    "import re\n",
    "from datetime import datetime\n",
    "from collections import Counter\n",
    "\n",
    "%matplotlib inline"
   ]
  },
  {
   "cell_type": "markdown",
   "metadata": {},
   "source": [
    "# Scrapping the Dylan Lyrics"
   ]
  },
  {
   "cell_type": "code",
   "execution_count": null,
   "metadata": {
    "collapsed": true
   },
   "outputs": [],
   "source": [
    "url = 'http://lyrics.wikia.com/wiki/Bob_Dylan'\n",
    "\n",
    "data = bf(requests.get(url).text)\n",
    "\n",
    "url_lst = []\n",
    "for  ols in data.find_all('ol'):\n",
    "    try:\n",
    "        for ol in ols:\n",
    "            url_lst.append('http://lyrics.wikia.com' + ol.a.get('href'))\n",
    "    except:\n",
    "        pass\n",
    "    \n",
    "dylan = []\n",
    "for url in url_lst:\n",
    "    temp_dic = {}\n",
    "    try:\n",
    "        soup = bf(requests.get(url).text)\n",
    "        temp_dic['title'] = soup.find('div', id = 'song-header-title').text.strip()\n",
    "        temp_dic['lyrics'] = ' '.join([a for a in re.split(r'([A-Z][a-z]*)', soup.find('div', class_ = 'lyricbox').text) if a]).replace('\\n', '')\n",
    "        temp_dic['album'] = soup.find('i').text.split('(')[0].strip().replace(')', '')\n",
    "        temp_dic['release_date'] = soup.find('i').text.split('(')[1].strip()\n",
    "        dylan.append(temp_dic)\n",
    "    except:\n",
    "        pass\n"
   ]
  },
  {
   "cell_type": "code",
   "execution_count": null,
   "metadata": {
    "collapsed": true
   },
   "outputs": [],
   "source": [
    "# Making a data frame\n",
    "dylan_df = pd.DataFrame({'song': [i['title'] for i in dylan],\n",
    "                        'album': [i['album'] for i in dylan],\n",
    "                        'release_date': [int(i['release_date'].split(')')[0]) for i in dylan],\n",
    "                        'lyrics': [i['lyrics'] for i in dylan]})\n",
    "dylan_df['dylan_age'] = dylan_df.release_date - 1941\n",
    "dylan_df = dylan_df[['song', 'album','dylan_age' ,'release_date', 'lyrics']]"
   ]
  },
  {
   "cell_type": "code",
   "execution_count": null,
   "metadata": {
    "collapsed": true
   },
   "outputs": [],
   "source": [
    "dylan_df[['song', 'album', 'dylan_age', 'release_date', 'lyrics']].to_pickle('dylan_info_df.pkl')"
   ]
  },
  {
   "cell_type": "code",
   "execution_count": 4,
   "metadata": {
    "collapsed": false
   },
   "outputs": [],
   "source": [
    "dylan_df = pd.read_pickle('dylan_info_df.pkl')\n",
    "dylan_df = dylan_df[dylan_df.album != 'Christmas In The Heart'].reset_index(drop = True)"
   ]
  },
  {
   "cell_type": "markdown",
   "metadata": {},
   "source": [
    "It's a small data set of only 413 songs"
   ]
  },
  {
   "cell_type": "code",
   "execution_count": 152,
   "metadata": {
    "collapsed": false
   },
   "outputs": [],
   "source": [
    "# Take out the instrumental tracks\n",
    "instrumental_index = []\n",
    "for i,song in enumerate(dylan_df.lyrics):\n",
    "    if 'Instrumental' in song:\n",
    "        instrumental_index.append(i)\n",
    "        \n",
    "greatest_hits_index = []\n",
    "for i,song in enumerate(dylan_df.album):\n",
    "    if 'Greatest' in song:\n",
    "        greatest_hits_index.append(i)\n",
    "        \n",
    "by_album = dylan_df.groupby('album').count()\n",
    "true_albums = []\n",
    "for i in range(by_album.shape[0]):\n",
    "    if by_album.song[i] > 4:\n",
    "        true_albums.append(by_album.index[i])\n",
    "        \n",
    "album_indexes = []\n",
    "for i, album_name in enumerate(dylan_df.album):\n",
    "    if album_name in true_albums:\n",
    "        album_indexes.append(i)\n",
    "        \n",
    "\n",
    "\n",
    "dylan_df = dylan_df.copy().loc[set(dylan_df.index.tolist()) - set(instrumental_index + greatest_hits_index)].reset_index(drop= True)\n",
    "dylan_df = dylan_df.copy().loc[album_indexes].reset_index(drop= True)"
   ]
  },
  {
   "cell_type": "markdown",
   "metadata": {},
   "source": [
    "## Topic Modeling"
   ]
  },
  {
   "cell_type": "code",
   "execution_count": 154,
   "metadata": {
    "collapsed": false
   },
   "outputs": [],
   "source": [
    "import nltk\n",
    "from nltk.stem.snowball import SnowballStemmer\n",
    "\n",
    "\n",
    "stopwords = [i for i in nltk.corpus.stopwords.words('english')]\n",
    "stopwords += ['said', 'like', 'may', 'oh', 'well']"
   ]
  },
  {
   "cell_type": "markdown",
   "metadata": {},
   "source": [
    "### Vectorize Dylan's Lyrics"
   ]
  },
  {
   "cell_type": "code",
   "execution_count": 155,
   "metadata": {
    "collapsed": false
   },
   "outputs": [],
   "source": [
    "from sklearn.feature_extraction.text import TfidfVectorizer\n",
    "\n",
    "tfidf_vect = TfidfVectorizer(stop_words = stopwords,\n",
    "                     min_df = .05,\n",
    "                     max_df = .85)\n",
    "\n",
    "tfidf = tfidf_vect.fit_transform(dylan_df.lyrics)\n",
    "tfidf_feature_names = tfidf_vect.get_feature_names()"
   ]
  },
  {
   "cell_type": "markdown",
   "metadata": {},
   "source": [
    "### Topic Modeling: NMF"
   ]
  },
  {
   "cell_type": "code",
   "execution_count": 167,
   "metadata": {
    "collapsed": false
   },
   "outputs": [],
   "source": [
    "from sklearn.decomposition import NMF\n",
    "\n",
    "nmf = NMF(n_components = 7, random_state=1, alpha=.1, l1_ratio=.5).fit(tfidf)\n",
    "transformed_data = nmf.transform(tfidf)"
   ]
  },
  {
   "cell_type": "code",
   "execution_count": 168,
   "metadata": {
    "collapsed": false
   },
   "outputs": [
    {
     "name": "stdout",
     "output_type": "stream",
     "text": [
      "Topic:1\n",
      "got know time say man get never back see could night go way day still tell gone right heart long\n",
      "Topic:2\n",
      "gonna take make got easy everybody woman hard boy things soul somebody says keep tonight good big man nothin wish\n",
      "Topic:3\n",
      "baby lord please honey got mind dream wrong die door want good know wanna yes come something last long feel\n",
      "Topic:4\n",
      "one lookin many two man honey road ask world three voice run another little god goin ever back kind face\n",
      "Topic:5\n",
      "love true want without need make must life fool country would away ever heart know someone night take see day\n",
      "Topic:6\n",
      "let go low hair mine heart give know yes gold try home anything stand heaven please gotta take world hold\n",
      "Topic:7\n",
      "come see together times everybody without give next know nothing true miss died fine tonight black alone little first town\n"
     ]
    }
   ],
   "source": [
    "def print_top_words(model, feature_names, n_top_words):\n",
    "    for topic_idx, topic in enumerate(model.components_):\n",
    "        print(\"Topic:\" + str(int(topic_idx)+1))\n",
    "        print(\" \".join([feature_names[i]\n",
    "                        for i in topic.argsort()[:-n_top_words - 1:-1]]))\n",
    "        \n",
    "print_top_words(nmf, tfidf_feature_names, 20)"
   ]
  },
  {
   "cell_type": "code",
   "execution_count": 169,
   "metadata": {
    "collapsed": false
   },
   "outputs": [],
   "source": [
    "topics = {1: '-',\n",
    "         2: 'Love',\n",
    "         3: '-j',\n",
    "         4: '- to a Lover',\n",
    "         5: 'God',\n",
    "         6: '- People',\n",
    "         7: '- Advice'}"
   ]
  },
  {
   "cell_type": "code",
   "execution_count": 170,
   "metadata": {
    "collapsed": false
   },
   "outputs": [],
   "source": [
    "\n",
    "final_data = pd.DataFrame(transformed_data).applymap(lambda x: 1 if x>0.05 else 0)\n",
    "final_data.columns = topics.values()\n",
    "final_data['year'] = [i for i in dylan_df.release_date]\n",
    "\n",
    "by_year = final_data.groupby('year').sum()\n",
    "for i in by_year.index:\n",
    "    by_year.loc[i] = by_year.loc[i]/float(np.sum(by_year.loc[i]))"
   ]
  },
  {
   "cell_type": "code",
   "execution_count": 171,
   "metadata": {
    "collapsed": false
   },
   "outputs": [
    {
     "name": "stderr",
     "output_type": "stream",
     "text": [
      "/Users/Fernanhid/miniconda/envs/datasci27/lib/python2.7/site-packages/ipykernel/__main__.py:1: FutureWarning: using '-' to provide set differences with Indexes is deprecated, use .difference()\n",
      "  if __name__ == '__main__':\n"
     ]
    },
    {
     "data": {
      "text/plain": [
       "<matplotlib.axes._subplots.AxesSubplot at 0x11917a610>"
      ]
     },
     "execution_count": 171,
     "metadata": {},
     "output_type": "execute_result"
    },
    {
     "data": {
      "image/png": "[encoded data removed]",
      "text/plain": [
       "<matplotlib.figure.Figure at 0x114b3c910>"
      ]
     },
     "metadata": {},
     "output_type": "display_data"
    }
   ],
   "source": [
    "by_year[by_year.columns - ['other']].plot()"
   ]
  },
  {
   "cell_type": "code",
   "execution_count": 164,
   "metadata": {
    "collapsed": false
   },
   "outputs": [
    {
     "data": {
      "image/png": "[encoded data removed]",
      "text/plain": [
       "<matplotlib.figure.Figure at 0x114843750>"
      ]
     },
     "metadata": {},
     "output_type": "display_data"
    },
    {
     "data": {
      "image/png": "[encoded data removed]",
      "text/plain": [
       "<matplotlib.figure.Figure at 0x1195337d0>"
      ]
     },
     "metadata": {},
     "output_type": "display_data"
    },
    {
     "data": {
      "image/png": "[encoded data removed]",
      "text/plain": [
       "<matplotlib.figure.Figure at 0x11989dcd0>"
      ]
     },
     "metadata": {},
     "output_type": "display_data"
    },
    {
     "data": {
      "image/png": "[encoded data removed]",
      "text/plain": [
       "<matplotlib.figure.Figure at 0x11ab9b1d0>"
      ]
     },
     "metadata": {},
     "output_type": "display_data"
    },
    {
     "data": {
      "image/png": "[encoded data removed]",
      "text/plain": [
       "<matplotlib.figure.Figure at 0x11b184e10>"
      ]
     },
     "metadata": {},
     "output_type": "display_data"
    },
    {
     "data": {
      "image/png": "[encoded data removed]",
      "text/plain": [
       "<matplotlib.figure.Figure at 0x1195c01d0>"
      ]
     },
     "metadata": {},
     "output_type": "display_data"
    },
    {
     "data": {
      "image/png": "[encoded data removed]",
      "text/plain": [
       "<matplotlib.figure.Figure at 0x114db2f10>"
      ]
     },
     "metadata": {},
     "output_type": "display_data"
    }
   ],
   "source": [
    "for i in by_year.columns:\n",
    "    by_year[i].plot(kind = 'bar')\n",
    "    plt.title(i)\n",
    "    plt.show()"
   ]
  },
  {
   "cell_type": "code",
   "execution_count": 115,
   "metadata": {
    "collapsed": false
   },
   "outputs": [
    {
     "data": {
      "text/html": [
       "<div>\n",
       "<table border=\"1\" class=\"dataframe\">\n",
       "  <thead>\n",
       "    <tr style=\"text-align: right;\">\n",
       "      <th></th>\n",
       "      <th>song</th>\n",
       "      <th>album</th>\n",
       "      <th>dylan_age</th>\n",
       "      <th>release_date</th>\n",
       "      <th>lyrics</th>\n",
       "    </tr>\n",
       "  </thead>\n",
       "  <tbody>\n",
       "  </tbody>\n",
       "</table>\n",
       "</div>"
      ],
      "text/plain": [
       "Empty DataFrame\n",
       "Columns: [song, album, dylan_age, release_date, lyrics]\n",
       "Index: []"
      ]
     },
     "execution_count": 115,
     "metadata": {},
     "output_type": "execute_result"
    }
   ],
   "source": [
    "dylan_df[dylan_df.release_date == 1971]"
   ]
  },
  {
   "cell_type": "code",
   "execution_count": 118,
   "metadata": {
    "collapsed": false
   },
   "outputs": [
    {
     "data": {
      "text/html": [
       "<div>\n",
       "<table border=\"1\" class=\"dataframe\">\n",
       "  <thead>\n",
       "    <tr style=\"text-align: right;\">\n",
       "      <th></th>\n",
       "      <th>song</th>\n",
       "      <th>album</th>\n",
       "      <th>dylan_age</th>\n",
       "      <th>release_date</th>\n",
       "      <th>lyrics</th>\n",
       "    </tr>\n",
       "  </thead>\n",
       "  <tbody>\n",
       "    <tr>\n",
       "      <th>396</th>\n",
       "      <td>I'm Not There</td>\n",
       "      <td>I'm Not There</td>\n",
       "      <td>66</td>\n",
       "      <td>2007</td>\n",
       "      <td>Things  are crashing down She 's all too tight...</td>\n",
       "    </tr>\n",
       "  </tbody>\n",
       "</table>\n",
       "</div>"
      ],
      "text/plain": [
       "              song          album  dylan_age  release_date  \\\n",
       "396  I'm Not There  I'm Not There         66          2007   \n",
       "\n",
       "                                                lyrics  \n",
       "396  Things  are crashing down She 's all too tight...  "
      ]
     },
     "execution_count": 118,
     "metadata": {},
     "output_type": "execute_result"
    }
   ],
   "source": [
    "dylan_df[dylan_df.release_date == 2007].head()"
   ]
  },
  {
   "cell_type": "code",
   "execution_count": 123,
   "metadata": {
    "collapsed": false
   },
   "outputs": [
    {
     "data": {
      "text/html": [
       "<div>\n",
       "<table border=\"1\" class=\"dataframe\">\n",
       "  <thead>\n",
       "    <tr style=\"text-align: right;\">\n",
       "      <th></th>\n",
       "      <th>song</th>\n",
       "      <th>dylan_age</th>\n",
       "      <th>release_date</th>\n",
       "      <th>lyrics</th>\n",
       "    </tr>\n",
       "    <tr>\n",
       "      <th>album</th>\n",
       "      <th></th>\n",
       "      <th></th>\n",
       "      <th></th>\n",
       "      <th></th>\n",
       "    </tr>\n",
       "  </thead>\n",
       "  <tbody>\n",
       "    <tr>\n",
       "      <th>Another Side Of Bob Dylan</th>\n",
       "      <td>11</td>\n",
       "      <td>11</td>\n",
       "      <td>11</td>\n",
       "      <td>11</td>\n",
       "    </tr>\n",
       "    <tr>\n",
       "      <th>Band Of The Hand</th>\n",
       "      <td>1</td>\n",
       "      <td>1</td>\n",
       "      <td>1</td>\n",
       "      <td>1</td>\n",
       "    </tr>\n",
       "    <tr>\n",
       "      <th>Biograph</th>\n",
       "      <td>1</td>\n",
       "      <td>1</td>\n",
       "      <td>1</td>\n",
       "      <td>1</td>\n",
       "    </tr>\n",
       "    <tr>\n",
       "      <th>Blonde On Blonde</th>\n",
       "      <td>14</td>\n",
       "      <td>14</td>\n",
       "      <td>14</td>\n",
       "      <td>14</td>\n",
       "    </tr>\n",
       "    <tr>\n",
       "      <th>Blood on the Tracks</th>\n",
       "      <td>10</td>\n",
       "      <td>10</td>\n",
       "      <td>10</td>\n",
       "      <td>10</td>\n",
       "    </tr>\n",
       "    <tr>\n",
       "      <th>Bob Dylan</th>\n",
       "      <td>13</td>\n",
       "      <td>13</td>\n",
       "      <td>13</td>\n",
       "      <td>13</td>\n",
       "    </tr>\n",
       "    <tr>\n",
       "      <th>Bringing It All Back Home</th>\n",
       "      <td>12</td>\n",
       "      <td>12</td>\n",
       "      <td>12</td>\n",
       "      <td>12</td>\n",
       "    </tr>\n",
       "    <tr>\n",
       "      <th>Desire</th>\n",
       "      <td>8</td>\n",
       "      <td>8</td>\n",
       "      <td>8</td>\n",
       "      <td>8</td>\n",
       "    </tr>\n",
       "    <tr>\n",
       "      <th>Down in the Groove</th>\n",
       "      <td>10</td>\n",
       "      <td>10</td>\n",
       "      <td>10</td>\n",
       "      <td>10</td>\n",
       "    </tr>\n",
       "    <tr>\n",
       "      <th>Dylan</th>\n",
       "      <td>9</td>\n",
       "      <td>9</td>\n",
       "      <td>9</td>\n",
       "      <td>9</td>\n",
       "    </tr>\n",
       "    <tr>\n",
       "      <th>Empire Burlesque</th>\n",
       "      <td>10</td>\n",
       "      <td>10</td>\n",
       "      <td>10</td>\n",
       "      <td>10</td>\n",
       "    </tr>\n",
       "    <tr>\n",
       "      <th>Fallen Angels</th>\n",
       "      <td>12</td>\n",
       "      <td>12</td>\n",
       "      <td>12</td>\n",
       "      <td>12</td>\n",
       "    </tr>\n",
       "    <tr>\n",
       "      <th>Feeling Minnesota</th>\n",
       "      <td>1</td>\n",
       "      <td>1</td>\n",
       "      <td>1</td>\n",
       "      <td>1</td>\n",
       "    </tr>\n",
       "    <tr>\n",
       "      <th>Good As I Been To You</th>\n",
       "      <td>14</td>\n",
       "      <td>14</td>\n",
       "      <td>14</td>\n",
       "      <td>14</td>\n",
       "    </tr>\n",
       "    <tr>\n",
       "      <th>Hearts Of Fire</th>\n",
       "      <td>2</td>\n",
       "      <td>2</td>\n",
       "      <td>2</td>\n",
       "      <td>2</td>\n",
       "    </tr>\n",
       "    <tr>\n",
       "      <th>Highway 61 Revisited</th>\n",
       "      <td>10</td>\n",
       "      <td>10</td>\n",
       "      <td>10</td>\n",
       "      <td>10</td>\n",
       "    </tr>\n",
       "    <tr>\n",
       "      <th>I'm Not There</th>\n",
       "      <td>1</td>\n",
       "      <td>1</td>\n",
       "      <td>1</td>\n",
       "      <td>1</td>\n",
       "    </tr>\n",
       "    <tr>\n",
       "      <th>Infidels</th>\n",
       "      <td>8</td>\n",
       "      <td>8</td>\n",
       "      <td>8</td>\n",
       "      <td>8</td>\n",
       "    </tr>\n",
       "    <tr>\n",
       "      <th>John Wesley Harding</th>\n",
       "      <td>12</td>\n",
       "      <td>12</td>\n",
       "      <td>12</td>\n",
       "      <td>12</td>\n",
       "    </tr>\n",
       "    <tr>\n",
       "      <th>Knocked Out Loaded</th>\n",
       "      <td>8</td>\n",
       "      <td>8</td>\n",
       "      <td>8</td>\n",
       "      <td>8</td>\n",
       "    </tr>\n",
       "    <tr>\n",
       "      <th>Love and Theft</th>\n",
       "      <td>12</td>\n",
       "      <td>12</td>\n",
       "      <td>12</td>\n",
       "      <td>12</td>\n",
       "    </tr>\n",
       "    <tr>\n",
       "      <th>Masked And Anonymous</th>\n",
       "      <td>1</td>\n",
       "      <td>1</td>\n",
       "      <td>1</td>\n",
       "      <td>1</td>\n",
       "    </tr>\n",
       "    <tr>\n",
       "      <th>Modern Times</th>\n",
       "      <td>10</td>\n",
       "      <td>10</td>\n",
       "      <td>10</td>\n",
       "      <td>10</td>\n",
       "    </tr>\n",
       "    <tr>\n",
       "      <th>Nashville Skyline</th>\n",
       "      <td>8</td>\n",
       "      <td>8</td>\n",
       "      <td>8</td>\n",
       "      <td>8</td>\n",
       "    </tr>\n",
       "    <tr>\n",
       "      <th>New Morning</th>\n",
       "      <td>12</td>\n",
       "      <td>12</td>\n",
       "      <td>12</td>\n",
       "      <td>12</td>\n",
       "    </tr>\n",
       "    <tr>\n",
       "      <th>Oh Mercy</th>\n",
       "      <td>10</td>\n",
       "      <td>10</td>\n",
       "      <td>10</td>\n",
       "      <td>10</td>\n",
       "    </tr>\n",
       "    <tr>\n",
       "      <th>Pat Garrett And Billy The Kid</th>\n",
       "      <td>4</td>\n",
       "      <td>4</td>\n",
       "      <td>4</td>\n",
       "      <td>4</td>\n",
       "    </tr>\n",
       "    <tr>\n",
       "      <th>Planet Waves</th>\n",
       "      <td>11</td>\n",
       "      <td>11</td>\n",
       "      <td>11</td>\n",
       "      <td>11</td>\n",
       "    </tr>\n",
       "    <tr>\n",
       "      <th>Saved</th>\n",
       "      <td>9</td>\n",
       "      <td>9</td>\n",
       "      <td>9</td>\n",
       "      <td>9</td>\n",
       "    </tr>\n",
       "    <tr>\n",
       "      <th>Self Portrait</th>\n",
       "      <td>20</td>\n",
       "      <td>20</td>\n",
       "      <td>20</td>\n",
       "      <td>20</td>\n",
       "    </tr>\n",
       "    <tr>\n",
       "      <th>Shadows In The Night</th>\n",
       "      <td>10</td>\n",
       "      <td>10</td>\n",
       "      <td>10</td>\n",
       "      <td>10</td>\n",
       "    </tr>\n",
       "    <tr>\n",
       "      <th>Shot of Love</th>\n",
       "      <td>10</td>\n",
       "      <td>10</td>\n",
       "      <td>10</td>\n",
       "      <td>10</td>\n",
       "    </tr>\n",
       "    <tr>\n",
       "      <th>Slow Train Coming</th>\n",
       "      <td>9</td>\n",
       "      <td>9</td>\n",
       "      <td>9</td>\n",
       "      <td>9</td>\n",
       "    </tr>\n",
       "    <tr>\n",
       "      <th>Street Legal</th>\n",
       "      <td>9</td>\n",
       "      <td>9</td>\n",
       "      <td>9</td>\n",
       "      <td>9</td>\n",
       "    </tr>\n",
       "    <tr>\n",
       "      <th>Tell Tale Signs</th>\n",
       "      <td>1</td>\n",
       "      <td>1</td>\n",
       "      <td>1</td>\n",
       "      <td>1</td>\n",
       "    </tr>\n",
       "    <tr>\n",
       "      <th>Tempest</th>\n",
       "      <td>10</td>\n",
       "      <td>10</td>\n",
       "      <td>10</td>\n",
       "      <td>10</td>\n",
       "    </tr>\n",
       "    <tr>\n",
       "      <th>The Basement Tapes</th>\n",
       "      <td>22</td>\n",
       "      <td>22</td>\n",
       "      <td>22</td>\n",
       "      <td>22</td>\n",
       "    </tr>\n",
       "    <tr>\n",
       "      <th>The Freewheelin' Bob Dylan</th>\n",
       "      <td>14</td>\n",
       "      <td>14</td>\n",
       "      <td>14</td>\n",
       "      <td>14</td>\n",
       "    </tr>\n",
       "    <tr>\n",
       "      <th>The Times They Are A-Changin'</th>\n",
       "      <td>10</td>\n",
       "      <td>10</td>\n",
       "      <td>10</td>\n",
       "      <td>10</td>\n",
       "    </tr>\n",
       "    <tr>\n",
       "      <th>Time Out of Mind</th>\n",
       "      <td>12</td>\n",
       "      <td>12</td>\n",
       "      <td>12</td>\n",
       "      <td>12</td>\n",
       "    </tr>\n",
       "    <tr>\n",
       "      <th>Together Through Life</th>\n",
       "      <td>10</td>\n",
       "      <td>10</td>\n",
       "      <td>10</td>\n",
       "      <td>10</td>\n",
       "    </tr>\n",
       "    <tr>\n",
       "      <th>Under The Red Sky</th>\n",
       "      <td>10</td>\n",
       "      <td>10</td>\n",
       "      <td>10</td>\n",
       "      <td>10</td>\n",
       "    </tr>\n",
       "    <tr>\n",
       "      <th>World Gone Wrong</th>\n",
       "      <td>10</td>\n",
       "      <td>10</td>\n",
       "      <td>10</td>\n",
       "      <td>10</td>\n",
       "    </tr>\n",
       "  </tbody>\n",
       "</table>\n",
       "</div>"
      ],
      "text/plain": [
       "                               song  dylan_age  release_date  lyrics\n",
       "album                                                               \n",
       "Another Side Of Bob Dylan        11         11            11      11\n",
       "Band Of The Hand                  1          1             1       1\n",
       "Biograph                          1          1             1       1\n",
       "Blonde On Blonde                 14         14            14      14\n",
       "Blood on the Tracks              10         10            10      10\n",
       "Bob Dylan                        13         13            13      13\n",
       "Bringing It All Back Home        12         12            12      12\n",
       "Desire                            8          8             8       8\n",
       "Down in the Groove               10         10            10      10\n",
       "Dylan                             9          9             9       9\n",
       "Empire Burlesque                 10         10            10      10\n",
       "Fallen Angels                    12         12            12      12\n",
       "Feeling Minnesota                 1          1             1       1\n",
       "Good As I Been To You            14         14            14      14\n",
       "Hearts Of Fire                    2          2             2       2\n",
       "Highway 61 Revisited             10         10            10      10\n",
       "I'm Not There                     1          1             1       1\n",
       "Infidels                          8          8             8       8\n",
       "John Wesley Harding              12         12            12      12\n",
       "Knocked Out Loaded                8          8             8       8\n",
       "Love and Theft                   12         12            12      12\n",
       "Masked And Anonymous              1          1             1       1\n",
       "Modern Times                     10         10            10      10\n",
       "Nashville Skyline                 8          8             8       8\n",
       "New Morning                      12         12            12      12\n",
       "Oh Mercy                         10         10            10      10\n",
       "Pat Garrett And Billy The Kid     4          4             4       4\n",
       "Planet Waves                     11         11            11      11\n",
       "Saved                             9          9             9       9\n",
       "Self Portrait                    20         20            20      20\n",
       "Shadows In The Night             10         10            10      10\n",
       "Shot of Love                     10         10            10      10\n",
       "Slow Train Coming                 9          9             9       9\n",
       "Street Legal                      9          9             9       9\n",
       "Tell Tale Signs                   1          1             1       1\n",
       "Tempest                          10         10            10      10\n",
       "The Basement Tapes               22         22            22      22\n",
       "The Freewheelin' Bob Dylan       14         14            14      14\n",
       "The Times They Are A-Changin'    10         10            10      10\n",
       "Time Out of Mind                 12         12            12      12\n",
       "Together Through Life            10         10            10      10\n",
       "Under The Red Sky                10         10            10      10\n",
       "World Gone Wrong                 10         10            10      10"
      ]
     },
     "execution_count": 123,
     "metadata": {},
     "output_type": "execute_result"
    }
   ],
   "source": [
    "dylan_df.groupby('album').count()"
   ]
  },
  {
   "cell_type": "code",
   "execution_count": null,
   "metadata": {
    "collapsed": true
   },
   "outputs": [],
   "source": [
    "d"
   ]
  }
 ],
 "metadata": {
  "anaconda-cloud": {},
  "kernelspec": {
   "display_name": "Python [default]",
   "language": "python",
   "name": "python2"
  },
  "language_info": {
   "codemirror_mode": {
    "name": "ipython",
    "version": 2
   },
   "file_extension": ".py",
   "mimetype": "text/x-python",
   "name": "python",
   "nbconvert_exporter": "python",
   "pygments_lexer": "ipython2",
   "version": "2.7.12"
  }
 },
 "nbformat": 4,
 "nbformat_minor": 0
}
